{
 "cells": [
  {
   "cell_type": "code",
   "execution_count": 1,
   "id": "jk9pbb43wu4z",
   "metadata": {
    "id": "jk9pbb43wu4z"
   },
   "outputs": [],
   "source": [
    "import numpy as np\n",
    "import pandas as pd\n",
    "import matplotlib.pyplot as plt\n",
    "import random"
   ]
  },
  {
   "cell_type": "markdown",
   "id": "l56RuXkLwu4z",
   "metadata": {
    "id": "l56RuXkLwu4z"
   },
   "source": [
    "### Part 1\n",
    "split training data (i.e. spam train.txt) into a training set and a validation set, putting\n",
    "the last 1000 emails into the validation set. Thus, we will have a new training set (call it\n",
    "train.txt) with 4000 emails and a validation set (call it validation.txt) with 1000 emails."
   ]
  },
  {
   "cell_type": "code",
   "execution_count": 2,
   "id": "cOveY5iowu40",
   "metadata": {
    "colab": {
     "base_uri": "https://localhost:8080/",
     "height": 240
    },
    "id": "cOveY5iowu40",
    "outputId": "a94a5862-665e-4cef-ba0d-c56a7801af00"
   },
   "outputs": [
    {
     "ename": "FileNotFoundError",
     "evalue": "[Errno 2] No such file or directory: 'spam_train.txt'",
     "output_type": "error",
     "traceback": [
      "\u001b[0;31m---------------------------------------------------------------------------\u001b[0m",
      "\u001b[0;31mFileNotFoundError\u001b[0m                         Traceback (most recent call last)",
      "Input \u001b[0;32mIn [2]\u001b[0m, in \u001b[0;36m<cell line: 1>\u001b[0;34m()\u001b[0m\n\u001b[0;32m----> 1\u001b[0m f \u001b[38;5;241m=\u001b[39m \u001b[38;5;28;43mopen\u001b[39;49m\u001b[43m(\u001b[49m\u001b[38;5;124;43m'\u001b[39;49m\u001b[38;5;124;43mspam_train.txt\u001b[39;49m\u001b[38;5;124;43m'\u001b[39;49m\u001b[43m,\u001b[49m\u001b[38;5;124;43m'\u001b[39;49m\u001b[38;5;124;43mr\u001b[39;49m\u001b[38;5;124;43m'\u001b[39;49m\u001b[43m)\u001b[49m\n\u001b[1;32m      2\u001b[0m content \u001b[38;5;241m=\u001b[39m f\u001b[38;5;241m.\u001b[39mreadlines()\n\u001b[1;32m      3\u001b[0m f\u001b[38;5;241m.\u001b[39mclose()\n",
      "\u001b[0;31mFileNotFoundError\u001b[0m: [Errno 2] No such file or directory: 'spam_train.txt'"
     ]
    }
   ],
   "source": [
    "f = open('spam_train.txt','r')\n",
    "content = f.readlines()\n",
    "f.close()\n",
    "train_lines = content[:4000]\n",
    "val_lines = content[4000:]\n",
    "f = open('train.txt', 'w')\n",
    "f.write(''.join(train_lines))\n",
    "f.close()\n",
    "f = open('validation.txt', 'w')\n",
    "f.write(''.join(val_lines))\n",
    "f.close()"
   ]
  },
  {
   "cell_type": "markdown",
   "id": "TQcsqx5twu40",
   "metadata": {
    "id": "TQcsqx5twu40"
   },
   "source": [
    "Transform all of the data into feature vectors as follows. Build a vocabulary list\n",
    "using only the 4000 e-mail training set by finding all words that occur across the training set."
   ]
  },
  {
   "cell_type": "code",
   "execution_count": 3,
   "id": "qiePZHpdwu41",
   "metadata": {
    "id": "qiePZHpdwu41"
   },
   "outputs": [],
   "source": [
    "def words(data_file, X=20, N=-1):\n",
    "    # X: frequency threshold\n",
    "    # N: the number of emails used to generate the vocabulary\n",
    "    # N = -1 denotes using all emails\n",
    "    vocabulary = []\n",
    "    f = open(data_file,'r')\n",
    "    content = f.readlines()\n",
    "    f.close()\n",
    "    if N == -1:\n",
    "        N = len(content)\n",
    "    all_words = {}\n",
    "    for i in content[:N]:\n",
    "        for j in set(i.strip().split()):\n",
    "            if all_words.get(j) == None:\n",
    "                all_words[j] = 1\n",
    "            else:\n",
    "                all_words[j] +=1\n",
    "    for key in all_words.keys():\n",
    "        if all_words[key] >= X:\n",
    "            vocabulary.append(key)\n",
    "    vocabulary.remove('1')\n",
    "    vocabulary.remove('0')      \n",
    "    return vocabulary"
   ]
  },
  {
   "cell_type": "code",
   "execution_count": 5,
   "id": "ckcsDI0iwu41",
   "metadata": {
    "colab": {
     "base_uri": "https://localhost:8080/"
    },
    "id": "ckcsDI0iwu41",
    "outputId": "e21be27a-8bba-455e-821d-6600c235623a",
    "scrolled": true
   },
   "outputs": [
    {
     "name": "stdout",
     "output_type": "stream",
     "text": [
      "['cours', 'net', 'domain', 'excit', 'approv', 'manag', 'will', 'promot', 'us', 'origin', 'current', 'compani', 'price', 'can', 'much', 'gener', 'avail', 'and', 'i', 'to', 'an', 'info', 'dollarnumb', 'it', 'you', 'more', 'panel', 'right', 'e', 'email', 'just', 'afford', 'public', 'number', 'administr', 'same', 'name', 'brand', 'at', 'sincer', 'final', 'biz', 'as', 'attract', 'mail', 'new', 'by', 'is', 'these', 'that', 'for', 'rememb', 'of', 'easier', 'full', 'com', 'benefit', 'have', 'be', 'discount', 'address', 'the', 'includ', 'click', 'biggest', 'fee', 'recent', 'easi', 'httpaddr', 'now', 'well', 'access', 'visit', 'announc', 'were', 'on', 'registr', 'or', 'in', 'control', 'your', 'remov', 'regist', 'from', 'futur', 'extens', 'thi', 'here', 'todai', 'ar', 'further', 'offer', 'north', 'confidenti', 'alaska', 'below', 'island', 'tax', 'present', 'citizen', 'return', 'delai', 'thank', 'nation', 'main', 'direct', 'subject', 'other', 'texa', 'state', 'take', 'note', 'time', 'help', 'dai', 'client', 'ow', 'recogn', 'there', 'bank', 'size', 'hawaii', 'matter', 'mexico', 'asset', 'west', 'receiv', 'phone', 'washington', 'florida', 'monei', 'appli', 'protect', 'immedi', 'ani', 'applic', 'attornei', 'fill', 'advertis', 'no', 'kept', 'past', 'suppli', 'nbsp', 'strictli', 'also', 'regard', 'both', 'with', 'pleas', 'out', 'defens', 'form', 'do', 'assist', 'onc', 'free', 'so', 'york', 'ir', 'jersei', 'legal', 'word', 'inform', 'oblig', 'if', 'we', 'interest', 'onli', 'busi', 'trust', 'south', 'fund', 'servic', 'california', 'up', 'process', 'our', 'agent', 'illinoi', 'virginia', 'debt', 'contact', 'wish', 'repli', 'without', 'problem', 'appeal', 'prepar', 'mai', 'licens', 'through', 'answer', 'thei', 'better', 'comput', 'sure', 'open', 'write', 'innov', 'post', 'than', 'inc', 'sourc', 'lawrenc', 'r', 'harlei', 'give', 'system', 'me', 'useless', 'all', 'gari', 'pablo', 'm', 'teledynam', 'picasso', 'robert', 'but', 'commun', 'share', 'murphi', 'night', 'seem', 'befor', 'come', 'home', 'script', 'invok', 'provid', 'check', 'kinda', 'report', 'wai', 'user', 'input', 'sponsor', 'respons', 'sf', 'far', 's', 've', 'emailaddr', 'geek', 'header', 'brian', 'been', 'own', 'accept', 'pass', 'back', 'pretti', 'sendmail', 'modifi', 'last', 'which', 'test', 'member', 'sever', 'procmail', 'am', 'when', 'directori', 'a', 'wed', 'send', 'heaven', 'instal', 'mount', 'posit', 'principl', 'try', 'flag', 'razor', 'chang', 'oct', 'look', 'list', 'x', 'good', 'everi', 'edt', 'spamassassin', 'proper', 'side', 'machin', 'set', 'not', 'itself', 'option', 'thing', 'spam', 'wrote', 'my', 'ad', 'welcom', 'thinkgeek', 'exampl', 'want', 'subscript', 'refer', 'niall', 'group', 'after', 'littl', 'file', 'hard', 'obviou', 'maintain', 'link', 'need', 'decid', 'quot', 'soft', 'manual', 'un', 'suppos', 'honest', 'irish', 'count', 'miss', 'accord', 'what', 'singl', 'everyon', 'rule', 'goe', 'filter', 'linux', 'automat', 'stai', 'item', 'extra', 'delet', 'would', 'some', 'think', 'such', 'messag', 't', 'exact', 'notic', 'd', 'doesn', 'sai', 'find', 'then', 'low', 'run', 'isn', 'dig', 'around', 'turn', 'wa', 'central', 'great', 'account', 'execut', 'caus', 'know', 'pai', 'detail', 'committe', 'dure', 'best', 'surpris', 'sum', 'foreign', 'follow', 'author', 'ever', 'payment', 'someon', 'civil', 'thousand', 'easili', 'oper', 'how', 'possibl', 'center', 'opportun', 'incur', 'abov', 'electr', 'partner', 'might', 'seen', 'contractor', 'million', 'god', 'entitl', 'paid', 'usdollarnumb', 'tune', 'numberm', 'over', 'draft', 'nigeria', 'law', 'prohibit', 'beneficiari', 'front', 'five', 'propos', 'dollar', 'accomplish', 'transfer', 'satisfi', 'although', 'solicit', 'expens', 'sinc', 'bless', 'due', 'fax', 'hundr', 'power', 'who', 'desk', 'soon', 'henc', 'colleagu', 'ha', 'parti', 'shall', 'base', 'discuss', 'georg', 'review', 'recommend', 'unit', 'feder', 'contract', 'k', 'like', 'get', 'packag', 'behind', 'work', 'folk', 'still', 'into', 'them', 'few', 'mon', 'enough', 'tom', 'copyright', 'while', 'happen', 'peopl', 'manner', 'left', 'pnumberp', 'initi', 'sep', 'valu', 'buffer', 'award', 'screen', 'juli', 'peoplesoft', 'win', 'drive', 'pda', 'top', 're', 'outstand', 'megapixel', 'faq', 'numberxnumb', 'numberx', 'capac', 'unsubscrib', 'ship', 'enter', 'seri', 'zoom', 'winner', 'job', 'tech', 'april', 'start', 'bui', 'newslett', 'dell', 'zdnet', 'intel', 'save', 'numbergb', 'network', 'pnumber', 'll', 'lucki', 'cio', 'processor', 'pc', 'chanc', 'ultra', 'next', 'optic', 'cnet', 'numbermb', 'live', 'digit', 'alert', 'shot', 'ram', 'rpm', 'pocket', 'camera', 'reserv', 'seek', 'could', 'bug', 'nonspam', 'made', 'their', 'ratio', 'becaus', 'prioriti', 'should', 'corpu', 'summari', 'stat', 'compon', 'stick', 'enhanc', 'devel', 'bad', 'rank', 'overal', 'complet', 'yahoo', 'got', 'four', 'sake', 'normal', 'put', 'statu', 'rather', 'six', 'os', 'differ', 'product', 'two', 'three', 'split', 'probabl', 'end', 'traffic', 'where', 'watch', 'version', 'trigger', 'score', 'platform', 'o', 'lot', 'came', 'behalf', 'polit', 'impress', 'invest', 'anywher', 'telephon', 'see', 'permit', 'august', 'remedi', 'confus', 'hasn', 'begun', 'hi', 'close', 'year', 'liber', 'too', 'fail', 'varieti', 'canada', 'ten', 'societi', 'hand', 'greatest', 'theori', 'wasn', 'capit', 'mysteri', 'true', 'illeg', 'paper', 'push', 'statement', 'cultur', 'lean', 'rah', 'perhap', 'becam', 'tell', 'implement', 'articl', 'decad', 'bring', 'even', 'place', 'solut', 'yet', 'countri', 'why', 'crash', 'he', 'team', 'govern', 'telecom', 'difficulti', 'de', 'despit', 'offici', 'hall', 'regul', 'recal', 'near', 'poor', 'everywher', 'about', 'import', 'keep', 'finish', 'america', 'effici', 'read', 'circl', 'india', 'exactli', 'japan', 'reform', 'wors', 'joseph', 'els', 'market', 'specif', 'real', 'non', 'googl', 'certainli', 'nor', 'industri', 'titl', 'econom', 'ian', 'stand', 'tuesdai', 'french', 'someth', 'franc', 'worker', 'most', 'must', 'spin', 'guess', 'down', 'sent', 'indian', 'guid', 'routin', 'properti', 'convinc', 'pm', 'again', 'mani', 'hold', 'person', 'took', 'john', 'popul', 'ago', 'nice', 'classic', 'lai', 'g', 'off', 'billion', 'did', 'social', 'question', 'numberpm', 'date', 'numbertnumb', 'lead', 'onlin', 'celebr', 'tomorrow', 'britain', 'url', 'san', 'w', 'credit', 'month', 'st', 'ventur', 'requir', 'code', 'british', 'american', 'ceo', 'east', 'profession', 'profit', 'centuri', 'updat', 'maker', 'u', 'strategi', 'former', 'v', 'portfolio', 'c', 'deal', 'ireland', 'postal', 'first', 'annual', 'heard', 'germani', 'older', 'sorri', 'africa', 'card', 'southern', 'ag', 'select', 'knowledg', 'coast', 'street', 'succe', 'go', 'el', 'analyst', 'stock', 'citi', 'field', 'insid', 'world', 'china', 'zip', 'spain', 'competit', 'mobil', 'republ', 'subscrib', 'intellig', 'ahead', 'amp', 'numberst', 'minor', 'australia', 'latest', 'ftoc', 'bodi', 'exmh', 'bound', 'line', 'cv', 'within', 'unseen', 'button', 'event', 'folder', 'build', 'chri', 'procedur', 'scott', 'scan', 'express', 'hit', 'inbox', 'syntax', 'relat', 'had', 'command', 'june', 'error', 'int', 'hadn', 'almost', 'don', 'school', 'develop', 'mention', 'convers', 'speaker', 'felt', 'till', 'fact', 'basic', 'jul', 'numberam', 'veri', 'entir', 'format', 'gone', 'floppi', 'disk', 'thought', 'wipe', 'choos', 'claim', 'either', 'cd', 'anyon', 'boot', 'call', 'min', 'load', 'forgot', 'ie', 'nt', 'restor', 'averag', 'repair', 'domest', 'make', 'legisl', 'truli', 'term', 'silli', 'incent', 'frame', 'spend', 'stupid', 'bill', 'balanc', 'whether', 'bottom', 'lower', 'appreci', 'bell', 'insur', 'print', 'effect', 'knock', 'bitbitch', 'move', 'materi', 'realli', 'couldn', 'sender', 'charg', 'anyth', 'togeth', 'cash', 'bit', 'didn', 'mean', 'said', 'whole', 'quickli', 'bb', 'funni', 'similar', 'sound', 'doe', 'altern', 'instead', 'anymor', 'penni', 'stuck', 'sign', 'rate', 'went', 'financi', 'cost', 'mayb', 'though', 'troubl', 'situat', 'burn', 'those', 'affect', 'hell', 'bother', 'spent', 'crap', 'inevit', 'custom', 'war', 'urg', 'transform', 'fit', 'repositori', 'apt', 'rh', 'diseas', 'underwrit', 'major', 'multi', 'mime', 'content', 'type', 'case', 'amount', 'encod', 'standard', 'commiss', 'window', 'tm', 'life', 'iso', 'risk', 'male', 'broker', 'nextpart', 'charset', 'ext', 'text', 'part', 'printabl', 'html', 'let', 'face', 'health', 'hour', 'plain', 'declin', 'cell', 'creat', 'research', 'medic', 'extract', 'hunt', 'forev', 'gift', 'throw', 'scientist', 'freez', 'trip', 'head', 'late', 'mutual', 'box', 'william', 'famili', 'agreement', 'safe', 'arrang', 'terrorist', 'campaign', 'label', 'id', 'meant', 'safeti', 'arrest', 'document', 'transact', 'drug', 'mind', 'conclud', 'ownership', 'belong', 'seven', 'affili', 'understand', 'eight', 'urgent', 'associ', 'relev', 'senior', 'involv', 'carri', 'bar', 'reader', 'notifi', 'offic', 'dear', 'confid', 'sir', 'wait', 'di', 'introduc', 'deposit', 'reach', 'secur', 'lift', 'abil', 'proven', 'clear', 'hettinga', 'trade', 'wouldn', 'poverti', 'abl', 'anybodi', 'histori', 'noth', 'cabl', 'her', 'seat', 'drag', 'led', 'cant', 'begin', 'xp', 'actual', 'found', 'devic', 'ok', 'shout', 'weather', 'ilug', 'corner', 'effort', 'keyboard', 'kind', 'old', 'video', 'peter', 'leav', 'lack', 'connect', 'block', 'plug', 'insert', 'switch', 'pre', 'variou', 'never', 'figur', 'sit', 'hassl', 'complain', 'self', 'eventu', 'essenti', 'fan', 'ot', 'simpl', 'anytim', 'depend', 'order', 'bigger', 'internet', 'week', 'respond', 'each', 'search', 'stop', 'remain', 'deliv', 'bulk', 'mailer', 'etc', 'larger', 'potenti', 'per', 'between', 'engin', 'plan', 'imagin', 'success', 'stuff', 'snapshot', 'string', 'cat', 'extern', 'stabl', 'stephen', 'session', 'listen', 'assum', 'prompt', 'http', 'destin', 'nc', 'support', 'excel', 'anoth', 'configur', 'prevent', 'host', 'featur', 'function', 'sat', 'default', 'sort', 'web', 'kill', 'certain', 'proxi', 'handi', 'raw', 'plai', 'won', 'echo', 'revis', 'nativ', 'expect', 'port', 'ssh', 'via', 'grow', 'model', 'long', 'numbercnumb', 'wrap', 'numberk', 'target', 'continu', 'local', 'establish', 'hire', 'comprehens', 'compens', 'numberbit', 'softwar', 'annuiti', 'advisor', 'disabl', 'conveni', 'individu', 'firm', 'sell', 'estat', 'technolog', 'program', 'fresh', 'practic', 'design', 'kei', 'educ', 'cnumber', 'variabl', 'map', 'qualifi', 'sale', 'brought', 'meet', 'proprietari', 'edg', 'fix', 'dealer', 'expert', 'retir', 'privat', 'fire', 'union', 'redhat', 'wrong', 'src', 'termin', 'earlier', 'fetch', 'gnome', 'gnomenumb', 'besid', 'partit', 'sun', 'huge', 'dynam', 'rebuild', 'ignor', 'inde', 'lie', 'server', 'app', 'boi', 'kevin', 'artist', 'wow', 'blood', 'comment', 'vnumber', 'perform', 'vircio', 'tx', 'gnu', 'congress', 'evil', 'pgp', 'numberp', 'austin', 'talk', 'gnupg', 'suit', 'iii', 'ascii', 'doer', 'issu', 'signatur', 'garrigu', 'vs', 'alreadi', 'spec', 'hook', 'ben', 'mnumber', 'consid', 'driver', 'along', 'produc', 'usb', 'fi', 'config', 'patch', 'alsa', 'matthia', 'freshrpm', 'ill', 'imho', 'survei', 'capabl', 'famou', 'pleasur', 'women', 'area', 'guarante', 'lo', 'proof', 'conduct', 'pill', 'larg', 'stimul', 'n', 'surfac', 'sa', 'tue', 'attach', 'particularli', 'cool', 'third', 'valid', 'harder', 'unsolicit', 'spammer', 'whitelist', 'marc', 'except', 'obvious', 'measur', 'ga', 'result', 'seed', 'commerci', 'quit', 'request', 'scam', 'wire', 'gmt', 'length', 'care', 'mountain', 'land', 'j', 'longer', 'project', 'var', 'town', 'fals', 'site', 'dont', 'rang', 'press', 'focu', 'hous', 'numberd', 'frustrat', 'apart', 'view', 'simpli', 'ye', 'wast', 'locat', 'sold', 'fast', 'arriv', 'game', 'perfectli', 'queri', 'databas', 'cheer', 'everyth', 'suse', 'point', 'especi', 'journal', 'hospit', 'labor', 'wife', 'ken', 'saturdai', 'coupl', 'beach', 'cover', 'round', 'wind', 'tour', 'root', 'signific', 'paul', 'quick', 'walk', 'francisco', 'bai', 'orient', 'seattl', 'stori', 'collect', 'squar', 'java', 'cafe', 'launch', 'mike', 'patent', 'fine', 'interfac', 'wonder', 'leverag', 'mix', 'interact', 'architectur', 'sampl', 'unlimit', 'msn', 'rout', 'track', 'natur', 'visibl', 'marketplac', 'instant', 'data', 'consum', 'allow', 'condit', 'virtual', 'feel', 'usag', 'deploi', 'f', 'clearli', 'eugen', 'difficult', 'gai', 'ms', 'taken', 'hmm', 'club', 'hang', 'annoi', 'told', 'gui', 'stabil', 'pl', 'www', 'spread', 'him', 'energi', 'loan', 'second', 'experi', 'ask', 'michael', 'until', 'later', 'met', 'monthli', 'shop', 'mine', 'limit', 'websit', 'add', 'page', 'feedback', 'plenti', 'beauti', 'pop', 'rel', 'resourc', 'depart', 'asid', 'myself', 'matur', 'letter', 'explain', 'purchas', 'employe', 'choic', 'worri', 'total', 'march', 'attempt', 'absolut', 'mr', 'assur', 'kindli', 'whose', 'corpor', 'ensur', 'train', 'directli', 'jabber', 'sometim', 'procmailrc', 'apach', 'osdn', 'fair', 'isp', 'flow', 'scenario', 'descript', 'dsl', 'suffer', 'adam', 'paragraph', 'slow', 'reduc', 'log', 'joe', 'aim', 'ton', 'sundai', 'cannot', 'cf', 'fun', 'idea', 'haven', 'impact', 'numbermhz', 'freebsd', 'tire', 'occas', 'argument', 'method', 'love', 'act', 'cancel', 'p', 'satisfact', 'friend', 'fortun', 'congratul', 'correspond', 'bottl', 'men', 'wear', 'forward', 'summer', 'light', 'perfect', 'serv', 'handl', 'least', 'red', 'anywai', 'usr', 'space', 'rhnumber', 'enabl', 'tv', 'hat', 'separ', 'sens', 'thoma', 'shape', 'releas', 'laptop', 'backup', 'luck', 'reinstal', 'radio', 'b', 'saou', 'oop', 'tape', 'alwai', 'upgrad', 'compress', 'beta', 'against', 'less', 'media', 'dave', 'straight', 'glad', 'filesystem', 'aug', 'pull', 'loonei', 'small', 'somewher', 'kernel', 'thu', 'insist', 'lock', 'consult', 'improv', 'match', 'homeown', 'grade', 'lowest', 'lender', 'mortgag', 'refin', 'h', 'equiti', 'microsoft', 'david', 'conflict', 'exist', 'particular', 'translat', 'reason', 'fault', 'gpl', 'holder', 'brief', 'retain', 'under', 'pick', 'among', 'intern', 'sheet', 'agre', 'wisdom', 'necessarili', 'technic', 'learn', 'topic', 'progress', 'howev', 'aw', 'fairli', 'roll', 'prefer', 'jump', 'aren', 'firewal', 'tel', 'big', 'twice', 'judg', 'compar', 'branch', 'disconnect', 'smith', 'hate', 'browser', 'sight', 'deathtospamdeathtospamdeathtospam', 'comp', 'task', 'cach', 'contain', 'xml', 'mirror', 'btw', 'hash', 'categori', 'otherwis', 'rom', 'chain', 'across', 'instantli', 'store', 'ibm', 'tri', 'dvd', 'owner', 'drawn', 'independ', 'attent', 'incred', 'exclud', 'whatsoev', 'show', 'mailbox', 'daniel', 'disappear', 'wrinkl', 'hair', 'human', 'increas', 'loss', 'mass', 'memori', 'li', 'skin', 'tone', 'discoveri', 'growth', 'muscl', 'revers', 'ca', 'bone', 'remark', 'lose', 'hello', 'erect', 'opt', 'weight', 'region', 'accur', 'rise', 'predict', 'warm', 'global', 'trend', 'concern', 'shown', 'construct', 'joint', 'none', 'road', 'dr', 'rob', 'domin', 'park', 'conclus', 'consist', 'bnumber', 'satellit', 'roi', 'studi', 'widespread', 'interpret', 'airport', 'degre', 'gather', 'earth', 'flight', 'detect', 'repres', 'short', 'numberanumb', 'entri', 'exchang', 'superior', 'prei', 'destruct', 'ion', 'hacker', 'edit', 'integr', 'retail', 'util', 'special', 'systemwork', 'combin', 'lt', 'norton', 'gt', 'fall', 'unwant', 'valuabl', 'obtain', 'virus', 'pack', 'evolut', 'indic', 'profil', 'elect', 'man', 'da', 'observ', 'speed', 'precis', 'rock', 'awai', 'acceler', 'sweet', 'evalu', 'pipe', 'spot', 'inch', 'pressur', 'bear', 'resolut', 'toward', 'oil', 'high', 'becom', 'ass', 'outsid', 'common', 'gotten', 'constantli', 'restrict', 'teach', 'grown', 'ralli', 'disagre', 'protest', 'amend', 'court', 'owen', 'eas', 'strongli', 'multipart', 'class', 'instruct', 'wi', 'disposit', 'apolog', 'numberrd', 'trial', 'inlin', 'honor', 'co', 'equip', 'assembl', 'y', 'anumb', 'est', 'fulli', 'fa', 'la', 'con', 'manufactur', 'portabl', 'plate', 'foot', 'al', 'scienc', 'plant', 'necessari', 'copi', 'cup', 'es', 'en', 'ma', 'readi', 'steven', 'editor', 'van', 'planta', 'hack', 'displai', 'null', 'sequenc', 'l', 'magic', 'background', 'mh', 'appear', 'msg', 'ander', 'suggest', 'paint', 'occur', 'tcl', 'percentag', 'maximum', 'plu', 'algorithm', 'dice', 'sensit', 'incom', 'bunch', 'spring', 'alarm', 'behavior', 'imposs', 'fake', 'aol', 'legitim', 'hugh', 'instanc', 'ip', 'board', 'craig', 'stream', 'spamtrap', 'z', 'tar', 'respect', 'usual', 'mondai', 'septemb', 'suspect', 'unless', 'defin', 'bind', 'pars', 'hal', 'elimin', 'bid', 'themselv', 'typic', 'candid', 'advantag', 'object', 'advis', 'premium', 'vari', 'decis', 'worth', 'vehicl', 'polici', 'drop', 'death', 'iv', 'contribut', 'action', 'qualiti', 'seriou', 'discov', 'dream', 'car', 'earn', 'millennium', 'fastest', 'style', 'wealth', 'desir', 'believ', 'forget', 'em', 'shanumb', 'recipi', 'lib', 'exec', 'gpg', 'persist', 'substanti', 'encrypt', 'mess', 'refinanc', 'cut', 'minut', 'idiot', 'speak', 'mathemat', 'buyer', 'basenumb', 'vipul', 'specifi', 'gibson', 'prakash', 'wide', 'ved', 'distribut', 'conserv', 'voyag', 'hear', 'zealot', 'bandwidth', 'neg', 'bullet', 'brain', 'correct', 'icq', 'extend', 'privileg', 'period', 'banner', 'attain', 'leader', 'level', 'yourself', 'definit', 'img', 'archiv', 'hardli', 'star', 'player', 'mac', 'somewhat', 'acknowledg', 'smtp', 'abus', 'numberb', 'boost', 'revok', 'cc', 'headlin', 'output', 'boundari', 'wireless', 'mode', 'logic', 'unix', 'wise', 'debug', 'secret', 'transmit', 'mplayer', 'submit', 'org', 'dirti', 'tast', 'piec', 'pilot', 'resist', 'magazin', 'librari', 'dublin', 'harri', 'given', 'path', 'creator', 'movi', 'ac', 'novemb', 'vulner', 'daili', 'filenam', 'txt', 'crime', 'conf', 'hardwar', 'razornumb', 'tend', 'militari', 'built', 'wednesdai', 'batteri', 'digest', 'record', 'hunger', 'justic', 'empti', 'debian', 'protocol', 'export', 'morn', 'known', 'compil', 'ftp', 'repeat', 'mark', 'ps', 'kre', 'heart', 'addit', 'highlight', 'whatev', 'understood', 'often', 'mous', 'rick', 'weblog', 'ny', 'chart', 'pro', 'outlook', 'trademark', 'shoot', 'imag', 'rich', 'fridai', 'writer', 'familiar', 'reg', 'reli', 'forc', 'certifi', 'uniqu', 'builder', 'doc', 'easiest', 'graphic', 'download', 'amaz', 'draw', 'math', 'properli', 'desktop', 'swap', 'compat', 'demonstr', 'friendli', 'bridg', 'thursdai', 'fox', 'mysql', 'blog', 'caught', 'strip', 'lyda', 'unfortun', 'confirm', 'warn', 'resolv', 'beyond', 'pain', 'arrai', 'chat', 'grab', 'xxx', 'truth', 'parent', 'ne', 'jame', 'white', 'children', 'possess', 'interview', 'struggl', 'premier', 'kid', 'ran', 'marri', 'januari', 'stage', 'entertain', 'fiction', 'director', 'jennif', 'husband', 'london', 'previous', 'teen', 'photo', 'bond', 'layer', 'whom', 'usa', 'she', 'book', 'wherea', 'overnight', 'numberdnumb', 'promis', 'blue', 'ear', 'publish', 'role', 'saw', 'nasti', 'black', 'depress', 'girl', 'pair', 'admit', 'film', 'charact', 'settlement', 'evolv', 'portion', 'barri', 'ltd', 'femal', 'feet', 'justin', 'ti', 'divis', 'weird', 'classifi', 'prefix', 'modul', 'skip', 'scratch', 'py', 'extrem', 'lost', 'ah', 'doubl', 'gear', 'section', 'significantli', 'excess', 'tabl', 'determin', 'treat', 'python', 'signal', 'harm', 'token', 'decor', 'sidebar', 'hurt', 'catch', 'clue', 'magnitud', 'beat', 'organ', 'byte', 'fed', 'random', 'ham', 'strong', 'fellow', 'highli', 'done', 'guido', 'yield', 'tag', 'scheme', 'fp', 'assumpt', 'calcul', 'structur', 'clean', 'reduct', 'investig', 'max', 'xnumber', 'gave', 'appar', 'massiv', 'context', 'cloth', 'grant', 'bonu', 'collector', 'duplic', 'perman', 'exclus', 'diamond', 'authent', 'empir', 'strike', 'numbernd', 'fl', 'serial', 'rare', 'constant', 'ly', 'career', 'weekli', 'frequent', 'travel', 'assign', 'demand', 'electron', 'join', 'schedul', 'hope', 'column', 'pt', 'faster', 'goal', 'smaller', 'tim', 'realiz', 'yeah', 'alon', 'somebodi', 'unknown', 'elig', 'liter', 'upon', 'dedic', 'freedom', 'advanc', 'bureau', 'unlik', 'bare', 'successfulli', 'minimum', 'bankruptci', 'adult', 'regular', 'doubt', 'institut', 'toni', 'border', 'foundat', 'neither', 'declar', 'half', 'damn', 'kate', 'password', 'minim', 'monitor', 'ng', 'toll', 'cooper', 'cheap', 'wholesal', 'overlook', 'babi', 'tremend', 'ride', 'cent', 'nv', 'complianc', 'intend', 'resid', 'inconveni', 'gain', 'va', 'asia', 'numberth', 'resum', 'rewrit', 'prior', 'presum', 'core', 'art', 'mason', 'pursu', 'replac', 'favorit', 'happi', 'vacat', 'llc', 'netscap', 'tool', 'failur', 'laugh', 'deep', 'smile', 'distro', 'partnership', 'pound', 'uk', 'euro', 'disclosur', 'primari', 'abandon', 'sole', 'opinion', 'transmiss', 'purpos', 'airlin', 'disclaim', 'blank', 'holidai', 'alter', 'endors', 'sport', 'attack', 'damag', 'england', 'craft', 'yesterdai', 'chief', 'allianc', 'acquir', 'kit', 'symbol', 'mile', 'numberft', 'enorm', 'hors', 'scale', 'chip', 'preserv', 'incid', 'bush', 'carefulli', 'ey', 'debat', 'consider', 'voic', 'fork', 'oh', 'moment', 'opposit', 'weekend', 'europ', 'im', 'char', 'db', 'knew', 'fundament', 'threaten', 'rest', 'permiss', 'remot', 'anti', 'escap', 'bomb', 'focus', 'presid', 'faith', 'bin', 'tini', 'shell', 'issn', 'junk', 'q', 'tip', 'convert', 'tradit', 'explan', 'odd', 'peak', 'economi', 'aggress', 'receipt', 'ident', 'numbera', 'edificio', 'barcelona', 'nort', 'binari', 'inumb', 'investor', 'coverag', 'compel', 'roger', 'margin', 'multipl', 'optim', 'dead', 'rid', 'vendor', 'incompat', 'environ', 'fnumber', 'pattern', 'ab', 'dnumber', 'numberc', 'ea', 'cb', 'ii', 'ed', 'ce', 'dc', 'aa', 'ba', 'enumb', 'numberf', 'index', 'touch', 'languag', 'commit', 'consol', 'physic', 'storag', 'solv', 'flip', 'analog', 'pictur', 'reboot', 'corrupt', 'middl', 'eat', 'raid', 'techniqu', 'flaw', 'student', 'autom', 'describ', 'critic', 'colleg', 'incorpor', 'lab', 'broken', 'liquid', 'align', 'factor', 'inquiri', 'width', 'depth', 'awar', 'cross', 'crystal', 'danger', 'th', 'architect', 'brent', 'scalabl', 'welch', 'ex', 'planet', 'pioneer', 'hnumber', 'unusu', 'higher', 'ing', 'rnumber', 'snumber', 'modem', 'init', 'slightli', 'setup', 'encount', 'verifi', 'strang', 'defend', 'album', 'il', 'truck', 'tall', 'ball', 'km', 'si', 'comfort', 'break', 'nick', 'achiev', 'highest', 'king', 'flash', 'ground', 'jim', 'enjoi', 'hint', 'curiou', 'render', 'mechan', 'soni', 'heavi', 'membership', 'loos', 'ban', 'mouth', 'buck', 'channel', 'rais', 'envelop', 'favor', 'height', 'perl', 'millionair', 'door', 'audio', 'volum', 'valhalla', 'pr', 'snap', 'composit', 'sector', 'enterpris', 'powershot', 'steal', 'gnumber', 'lookup', 'competitor', 'canon', 'evid', 'boston', 'strength', 'nasdaq', 'numberg', 'corp', 'appoint', 'anticip', 'deliveri', 'newest', 'prospect', 'appl', 'notebook', 'quarter', 'sharehold', 'speech', 'explor', 'dev', 'recov', 'dispatch', 'percent', 'rose', 'jone', 'meter', 'popular', 'rival', 'comparison', 'earli', 'static', 'cheaper', 'suffici', 'numer', 'palm', 'fashion', 'previou', 'everybodi', 'compaq', 'toshiba', 'handheld', 'crucial', 'super', 'laser', 'kick', 'printer', 'water', 'equal', 'maxim', 'sentenc', 'gregori', 'alan', 'dozen', 'greg', 'su', 'angl', 'limbo', 'sub', 'lawsuit', 'foster', 'elia', 'assert', 'largest', 'western', 'turpin', 'shut', 'heat', 'murder', 'void', 'crimin', 'viagra', 'succeed', 'trace', 'invent', 'russel', 'complex', 'anim', 'audienc', 'sophist', 'packet', 'finger', 'dark', 'room', 'afternoon', 'narrow', 'season', 'greet', 'relationship', 'chosen', 'buri', 'bed', 'refus', 'mission', 'thread', 'food', 'victim', 'ring', 'rapidli', 'univers', 'forest', 'hot', 'yep', 'beberg', 'theft', 'blow', 'air', 'blind', 'xine', 'lifetim', 'simplifi', 'cancer', 'overwhelm', 'financ', 'estim', 'gold', 'relax', 'genet', 'activ', 'accuraci', 'numberi', 'fri', 'zero', 'smoke', 'worldwid', 'prescript', 'diff', 'rc', 'numbernumb', 'tmp', 'cvsroot', 'exit', 'retriev', 'usw', 'te', 'okai', 'tree', 'geeg', 'argu', 'green', 'schuman', 'rent', 'ugli', 'angel', 'privaci', 'occasion', 'realiti', 'trivial', 'mostli', 'bought', 'mistak', 'giant', 'greatli', 'cycl', 'dan', 'carrier', 'skeptic', 'joke', 'mainli', 'explos', 'nearli', 'forth', 'dramat', 'aspect', 'belief', 'race', 'prove', 'gambl', 'chicago', 'approach', 'testimoni', 'televis', 'dare', 'medium', 'seminar', 'decemb', 'batch', 'step', 'pa', 'inexpens', 'devot', 'statist', 'currenc', 'began', 'rip', 'slip', 'recruit', 'agenc', 'particip', 'mid', 'ia', 'pure', 'revenu', 'shouldn', 'shock', 'borrow', 'hesit', 'worst', 'wall', 'correctli', 'everydai', 'mlm', 'brown', 'guidelin', 'resel', 'feed', 'rss', 'hmmm', 'child', 'ticket', 'suck', 'usabl', 'dir', 'iirc', 'spamc', 'surviv', 'pentium', 'bu', 'hp', 'specul', 'basi', 'broadband', 'tnumber', 'throughout', 'employ', 'broke', 'ideal', 'visa', 'expir', 'newli', 'payabl', 'mastercard', 'constitut', 'enforc', 'station', 'bright', 'confer', 'surround', 'wave', 'trick', 'mood', 'sleep', 'serious', 'breakthrough', 'sexual', 'compromis', 'treatment', 'ladi', 'violenc', 'sex', 'scene', 'religi', 'scope', 'ourselv', 'elsewher', 'religion', 'collaps', 'inspir', 'decreas', 'cold', 'herbal', 'implic', 'agenda', 'wild', 'subsequ', 'primarili', 'aid', 'tab', 'drink', 'merchant', 'hei', 'eastern', 'solid', 'deriv', 'ingredi', 'concentr', 'fantasi', 'virtu', 'battl', 'equival', 'master', 'happier', 'unabl', 'therebi', 'creativ', 'twenti', 'stress', 'diet', 'se', 'asian', 'laboratori', 'extraordinari', 'ethic', 'ultim', 'woman', 'consolid', 'po', 'compet', 'gun', 'advic', 'moral', 'fear', 'forgotten', 'mother', 'birth', 'color', 'commentari', 'simultan', 'phrase', 'emot', 'english', 'challeng', 'sy', 'clock', 'closer', 'yellow', 'toi', 'explicitli', 'vast', 'judgment', 'violat', 'avoid', 'nobodi', 'written', 'lawyer', 'octob', 'polic', 'ct', 'crave', 'scientif', 'fat', 'fool', 'plane', 'duti', 'reliabl', 'numberenumb', 'trustworthi', 'meanwhil', 'fly', 'music', 'newsgroup', 'percept', 'broadcast', 'sober', 'shaw', 'drunken', 'perspect', 'meatspac', 'credul', 'cap', 'solari', 'reput', 'circumst', 'histor', 'litig', 'bet', 'encourag', 'worldcom', 'therefor', 'otcbb', 'negoti', 'reflect', 'deserv', 'slim', 'loop', 'adjust', 'ought', 'forg', 'reward', 'notif', 'fight', 'silent', 'peac', 'smooth', 'bite', 'emerg', 'proce', 'flat', 'identifi', 'born', 'spamd', 'distanc', 'himself', 'icon', 'lnumber', 'hidden', 'dump', 'menu', 'mo', 'tn', 'pub', 'randomli', 'formula', 'pudg', 'spare', 'held', 'rapid', 'factual', 'steadi', 'ge', 'numberff', 'exce', 'instrument', 'underlin', 'advisori', 'cn', 'environment', 'entiti', 'auto', 'hotmail', 'mpnumber', 'adapt', 'transpar', 'decent', 'onto', 'mandat', 'convent', 'thirti', 'crisi', 'budget', 'engag', 'dn', 'trap', 'programm', 'demo', 'interrupt', 'presenc', 'arm', 'matthew', 'poster', 'modif', 'dog', 'hide', 'shirt', 'javamail', 'um', 'modern', 'adopt', 'floor', 'navig', 'suddenli', 'edward', 'reveal', 'attend', 'iraq', 'habit', 'rush', 'captur', 'greater', 'thin', 'lcd', 'young', 'smart', 'theater', 'gatewai', 'tap', 'expand', 'reject', 'numberfnumb', 'blame', 'emploi', 'boss', 'sh', 'phase', 'admin', 'european', 'movement', 'commerc', 'father', 'et', 'son', 'secondari', 'bore', 'doctor', 'embed', 'cto', 'bob', 'barrera', 'skill', 'exercis', 'tough', 'catalog', 'le', 'inclus', 'cnn', 'viru', 'pend', 'disc', 'bounc', 'relai', 'miami', 'anonym', 'motiv', 'democraci', 'founder', 'vote', 'staff', 'larri', 'font', 'represent', 'fraction', 'php', 'geometri', 'packard', 'hewlett', 'pacif', 'remind', 'centr', 'recip', 'grand', 'terribl', 'distinct', 'lesson', 'experienc', 'router', 'hill', 'startup', 'steve', 'entrepreneur', 'broad', 'infrastructur', 'rohit', 'forum', 'bubbl', 'vision', 'analysi', 'vice', 'lan', 'regularli', 'richard', 'hole', 'sept', 'gif', 'gap', 'warranti', 'rental', 'boom', 'briefli', 'farm', 'verif', 'porn', 'wit', 'bearer', 'destroi', 'agreeabl', 'roman', 'gibbon', 'farquhar', 'antiqu', 'toner', 'inkjet', 'cartridg', 'distributor', 'intent', 'fr', 'nb', 'visual', 'healthi', 'auction', 'op', 'penguin', 'ebook', 'websearch', 'firststop', 'qnumber', 'ecobuild', 'boomer', 'combo', 'webcam', 'solitair', 'gnomecredit', 'exploit', 'neighbor', 'tweak', 'specialist', 'renam', 'dot', 'gnomi', 'workgroup', 'syndic', 'kleptomania', 'gnomespeci', 'lockergnom', 'smoother', 'medicin', 'duncan', 'consequ', 'somehow', 'attribut', 'clever', 'fuck', 'terror', 'liberti', 'ic', 'av', 'ebai', 'bundl', 'harvest', 'dial', 'threat', 'gate', 'japanes', 'appropri', 'band', 'mozilla', 'die', 'deni', 'perlnumb', 'creation', 'facil', 'mainten', 'thru', 'susan', 'heck', 'lee', 'examin', 'afraid', 'enemi', 'settl', 'robot', 'weak', 'pose', 'element', 'ordinari', 'increasingli', 'mere', 'sue', 'fbi', 'brother', 'crack', 'await', 'cite', 'gordon', 'zone', 'latter', 'regardless', 'whenev', 'leg', 'brows', 'jack', 'complic', 'oppos', 'plugin', 'shift', 'lover', 'expos', 'er', 'ap', 'hopefulli', 'nbc', 'oprah', 'freeli', 'concept', 'lexmark', 'shore', 'intellectu', 'crazi', 'visitor', 'numberbnumb', 'impli', 'epson', 'float', 'newer', 'chines', 'stronger', 'indulg', 'theme', 'revolutionari', 'profess', 'fell', 'influenc', 'patrick', 'fuel', 'approxim', 'robin', 'frank', 'martin', 'pghnumberbww', 'hotel', 'transport', 'moder', 'redistribut', 'xerox', 'divers', 'newspap', 'introduct', 'song', 'weapon', 'nationwid', 'helvetica', 'arial', 'invit', 'anthoni', 'acquisit']\n"
     ]
    }
   ],
   "source": [
    "print(words('train.txt'))"
   ]
  },
  {
   "cell_type": "markdown",
   "id": "ILEKuQ10wu42",
   "metadata": {
    "id": "ILEKuQ10wu42"
   },
   "source": [
    "For each email, transform it into a feature vector x where the j-th entry, $x_j$ is 1 if the j-th word in the vocabulary occurs in the email, and 0 otherwise."
   ]
  },
  {
   "cell_type": "code",
   "execution_count": 6,
   "id": "rUDMTKXJwu42",
   "metadata": {
    "id": "rUDMTKXJwu42"
   },
   "outputs": [],
   "source": [
    "def feature_vector(email,vocab_dict):\n",
    "    # vocab_dict is a dictionary that maps words to index in vocabulary list\n",
    "    result = []\n",
    "    lst = email.strip().split()\n",
    "    for key in vocab_dict.keys():\n",
    "        if key in lst:\n",
    "        vocab_dict[key] = 1\n",
    "    for value in vocab_dict.values():\n",
    "        result.append(value)\n",
    "    return result"
   ]
  },
  {
   "cell_type": "markdown",
   "id": "_h7Ogc3ewu42",
   "metadata": {
    "id": "_h7Ogc3ewu42"
   },
   "source": [
    "### Part 2\n",
    "The function ``perceptron_train`` trains a perceptron classifier, and should return ``w``, ``k``, and ``iter``,\n",
    "which are respectively the final classification vector (as a Python list), the number of updates\n",
    "(i.e., mistakes) performed (integer), and the number of passes through the data (integer).\n",
    "\n",
    "The function ``perceptron_error`` should take as inputs the weight vector w and\n",
    "a set of examples. The function should return the error rate, i.e., the fraction of examples\n",
    "that are misclassified by ``w``.\n",
    "\n"
   ]
  },
  {
   "cell_type": "code",
   "execution_count": 7,
   "id": "lBKZoK6mwu43",
   "metadata": {
    "id": "lBKZoK6mwu43"
   },
   "outputs": [],
   "source": [
    "def perceptron_train(train_x, train_y, max_iter = 100):\n",
    "    train_y = train_y * 2 - 1 # convert the {0,1} labels to {-1,1}\n",
    "    n_data, n_feature = train_x.shape\n",
    "    w = np.zeros(n_feature) # vector w to be trained\n",
    "    iters = 0 # count the number of iterations\n",
    "    k = 0 # count the number of mistakes\n",
    "    converge_count = 0\n",
    "    while converge_count < n_data and iters < max_iter: \n",
    "        for i in range(n_data):\n",
    "            if train_y[i]*(np.dot(train_x[i],w)) <= 0:\n",
    "                w = w + train_y[i]*train_x[i]\n",
    "                k+=1\n",
    "                converge_count = 0\n",
    "            else:\n",
    "                converge_count += 1\n",
    "        iters += 1\n",
    "    return w, k, iters\n",
    "        \n",
    "def perceptron_error(w, val_x, val_y):\n",
    "    val_y = val_y * 2 - 1\n",
    "    n_data, n_feature = val_x.shape\n",
    "    n_correct = 0 # number of samples correctly classified\n",
    "    for i in range(n_data):\n",
    "        if val_y[i]*(np.dot(val_x[i],w)) >= 0:\n",
    "            n_correct += 1\n",
    "    return 1 - n_correct / n_data"
   ]
  },
  {
   "cell_type": "markdown",
   "id": "nZ3NiDFNwu43",
   "metadata": {
    "id": "nZ3NiDFNwu43"
   },
   "source": [
    "### Part 3\n",
    "\n",
    "Train the linear classifier using the training set. "
   ]
  },
  {
   "cell_type": "code",
   "execution_count": 8,
   "id": "YDsu_nKvwu43",
   "metadata": {
    "id": "YDsu_nKvwu43"
   },
   "outputs": [
    {
     "name": "stdout",
     "output_type": "stream",
     "text": [
      "Errors made: 415\n",
      "Validation error: 0.016000\n"
     ]
    }
   ],
   "source": [
    "def feature_vectors(data_file, vocabulary):\n",
    "    # convert a file to x, y array\n",
    "    f = open(data_file,'r')\n",
    "    content = f.readlines()\n",
    "    f.close()\n",
    "    y = []\n",
    "    x = []\n",
    "    vocab_dict = {}\n",
    "    for i in content:\n",
    "        for j in vocabulary:\n",
    "            vocab_dict[j] = 0\n",
    "        y.append(int(i.strip()[0]))\n",
    "        x.append(feature_vector(i.strip(),vocab_dict))\n",
    "    y = np.array(y)\n",
    "    x = np.array(x)\n",
    "    return x, y\n",
    "\n",
    "vocabulary = words('train.txt')\n",
    "train_x, train_y = feature_vectors('train.txt', vocabulary)\n",
    "w, k, iters = perceptron_train(train_x, train_y)\n",
    "print('Errors made:', k)\n",
    "val_x, val_y = feature_vectors('validation.txt', vocabulary)\n",
    "print('Validation error: %.6f' % perceptron_error(w, val_x, val_y))"
   ]
  },
  {
   "cell_type": "markdown",
   "id": "9XyjEscawu44",
   "metadata": {
    "id": "9XyjEscawu44"
   },
   "source": [
    "### Part 4\n",
    "\n",
    "Using the vocabulary list together with the parameters learned in the previous question, output\n",
    "the 12 words with the most positive weights."
   ]
  },
  {
   "cell_type": "code",
   "execution_count": 9,
   "id": "VzMcVv5Qwu44",
   "metadata": {
    "id": "VzMcVv5Qwu44",
    "scrolled": true
   },
   "outputs": [
    {
     "name": "stdout",
     "output_type": "stream",
     "text": [
      "{'sight': 20.0, 'click': 17.0, 'remov': 16.0, 'pleas': 15.0, 'these': 14.0, 'internet': 13.0, 'guarante': 13.0, 'deathtospamdeathtospamdeathtospam': 13.0, 'our': 12.0, 'am': 12.0, 'will': 11.0, 'access': 11.0}\n"
     ]
    }
   ],
   "source": [
    "# show the 12 words with the most positive weights\n",
    "weights_dict = {}\n",
    "for i in range(len(vocabulary)):\n",
    "    weights_dict[vocabulary[i]] = w[i]\n",
    "L = sorted(weights_dict.items(),key = lambda item:item[1], reverse = True)\n",
    "l_pos = L[:12]\n",
    "l_neg = L[-12:]\n",
    "dict_pos, dict_neg = {},{}\n",
    "for i in l_pos:\n",
    "    dict_pos[i[0]] = i[1]\n",
    "for i in l_neg:\n",
    "    dict_neg[i[0]] = i[1]\n",
    "print(dict_pos)"
   ]
  },
  {
   "cell_type": "markdown",
   "id": "AFFnDRL_lN2a",
   "metadata": {
    "id": "AFFnDRL_lN2a"
   },
   "source": [
    "12 words with the most negative weights"
   ]
  },
  {
   "cell_type": "code",
   "execution_count": 10,
   "id": "OFe_8qPcwu44",
   "metadata": {
    "id": "OFe_8qPcwu44",
    "scrolled": true
   },
   "outputs": [
    {
     "name": "stdout",
     "output_type": "stream",
     "text": [
      "{'date': -10.0, 'run': -11.0, 'still': -11.0, 'url': -11.0, 'said': -11.0, 'there': -12.0, 'copyright': -12.0, 'server': -12.0, 'i': -13.0, 'reserv': -13.0, 'prefer': -14.0, 'wrote': -16.0}\n"
     ]
    }
   ],
   "source": [
    "# show the 12 words with the most negative weights\n",
    "print(dict_neg)"
   ]
  },
  {
   "cell_type": "markdown",
   "id": "xX66UabOwu45",
   "metadata": {
    "id": "xX66UabOwu45"
   },
   "source": [
    "### Part 5\n",
    "Test whether the test error decreases as the amount of training data increases. Using only the first $N$ rows of the training data, run both the perceptron algorithm on this smaller training set and evaluate the corresponding validation error (using all of the validation data). Do this for $N = 100, 200, 400, 800, 2000, 4000$, and create a plot of the validation error as a function of $N$."
   ]
  },
  {
   "cell_type": "code",
   "execution_count": 11,
   "id": "HbK-GyMkwu45",
   "metadata": {
    "id": "HbK-GyMkwu45"
   },
   "outputs": [],
   "source": [
    "def hyperparameter_test(X=20, N=-1):\n",
    "    # X: frequency threshold\n",
    "    # N: the number of emails used to generate the vocabulary\n",
    "    # In Q6 you will need to add an extra argument max_iters\n",
    "    # Returns: the number of iterations and the error rate\n",
    "    vocabulary = words('train.txt',N=N)\n",
    "    f = open('train.txt','r')\n",
    "    content = f.readlines()\n",
    "    f.close()\n",
    "    f = open('temp.txt','w')\n",
    "    f.write(''.join(content[:N]))\n",
    "    f.close()\n",
    "    train_x, train_y = feature_vectors('temp.txt', vocabulary)\n",
    "    w, k, iters = perceptron_train(train_x, train_y)\n",
    "    val_x, val_y = feature_vectors('validation.txt', vocabulary)\n",
    "    error = perceptron_error(w, val_x, val_y)\n",
    "    return iters, error"
   ]
  },
  {
   "cell_type": "code",
   "execution_count": 12,
   "id": "ZwGTLSQewu45",
   "metadata": {
    "id": "ZwGTLSQewu45"
   },
   "outputs": [
    {
     "name": "stdout",
     "output_type": "stream",
     "text": [
      "Now training with 100 samples\n",
      "Now training with 200 samples\n",
      "Now training with 400 samples\n",
      "Now training with 800 samples\n",
      "Now training with 2000 samples\n",
      "Now training with 4000 samples\n"
     ]
    }
   ],
   "source": [
    "Ns = [100, 200, 400, 800, 2000, 4000]\n",
    "validation_errors = []\n",
    "iterations = []\n",
    "for N in Ns:\n",
    "    print('Now training with %d samples' % N)\n",
    "    iters, error = hyperparameter_test(N = N)\n",
    "    validation_errors.append(error)\n",
    "    iterations.append(iters)"
   ]
  },
  {
   "cell_type": "code",
   "execution_count": 13,
   "id": "G3bDccbVwu45",
   "metadata": {
    "id": "G3bDccbVwu45"
   },
   "outputs": [
    {
     "data": {
      "image/png": "[encoded data removed]",
      "text/plain": [
       "<Figure size 432x288 with 1 Axes>"
      ]
     },
     "metadata": {
      "needs_background": "light"
     },
     "output_type": "display_data"
    }
   ],
   "source": [
    "plt.plot(Ns, validation_errors)\n",
    "plt.xlabel('N')\n",
    "plt.ylabel('Validation error')\n",
    "plt.show()"
   ]
  },
  {
   "cell_type": "markdown",
   "id": "Cb4KP4cXwu45",
   "metadata": {
    "id": "Cb4KP4cXwu45"
   },
   "source": [
    "Also for $N = 100, 200, 400, 800, 2000, 4000$, create a plot of the number of perceptron iterations as a function of N, where by iteration we mean a complete pass through the training data. As the amount of training data increases, the margin of the training set decreases, which generally leads to an increase in the number of iterations perceptron takes to converge."
   ]
  },
  {
   "cell_type": "code",
   "execution_count": 14,
   "id": "_UXJyruCwu45",
   "metadata": {
    "id": "_UXJyruCwu45",
    "scrolled": true
   },
   "outputs": [
    {
     "data": {
      "image/png": "[encoded data removed]",
      "text/plain": [
       "<Figure size 432x288 with 1 Axes>"
      ]
     },
     "metadata": {
      "needs_background": "light"
     },
     "output_type": "display_data"
    }
   ],
   "source": [
    "plt.plot(Ns, iterations)\n",
    "plt.xlabel('N')\n",
    "plt.ylabel('Iterations')\n",
    "plt.show()"
   ]
  },
  {
   "cell_type": "markdown",
   "id": "XbTC9m16wu46",
   "metadata": {
    "id": "XbTC9m16wu46"
   },
   "source": [
    "### Part 6\n",
    "Try various configurations of the algorithm using all 4000 training points, and find a good configuration having a low error on the validation set. In particular, try changing the maximum number of iterations and try changing X = 30, 40. Report the validation error."
   ]
  },
  {
   "cell_type": "code",
   "execution_count": 15,
   "id": "aYThY7aiwu46",
   "metadata": {
    "id": "aYThY7aiwu46",
    "scrolled": false
   },
   "outputs": [
    {
     "name": "stdout",
     "output_type": "stream",
     "text": [
      "max iteration time is 4\n",
      "Errors made: 374\n",
      "Validation error: 0.017000\n"
     ]
    }
   ],
   "source": [
    "print('max iteration time is 4')\n",
    "vocabulary = words('train.txt')\n",
    "train_x, train_y = feature_vectors('train.txt', vocabulary)\n",
    "w, k, iters = perceptron_train(train_x, train_y,max_iter = 4)\n",
    "print('Errors made:', k)\n",
    "val_x, val_y = feature_vectors('validation.txt', vocabulary)\n",
    "print('Validation error: %.6f' % perceptron_error(w, val_x, val_y))"
   ]
  },
  {
   "cell_type": "code",
   "execution_count": 16,
   "id": "5fdcfacc",
   "metadata": {},
   "outputs": [
    {
     "name": "stdout",
     "output_type": "stream",
     "text": [
      "max iteration time is 9\n",
      "Errors made: 415\n",
      "Validation error: 0.016000\n"
     ]
    }
   ],
   "source": [
    "print('max iteration time is 9')\n",
    "vocabulary = words('train.txt')\n",
    "train_x, train_y = feature_vectors('train.txt', vocabulary)\n",
    "w, k, iters = perceptron_train(train_x, train_y,max_iter = 9)\n",
    "print('Errors made:', k)\n",
    "val_x, val_y = feature_vectors('validation.txt', vocabulary)\n",
    "print('Validation error: %.6f' % perceptron_error(w, val_x, val_y))"
   ]
  },
  {
   "cell_type": "code",
   "execution_count": 17,
   "id": "238b6f94",
   "metadata": {},
   "outputs": [
    {
     "name": "stdout",
     "output_type": "stream",
     "text": [
      "max iteration time is 16\n",
      "Errors made: 415\n",
      "Validation error: 0.016000\n"
     ]
    }
   ],
   "source": [
    "print('max iteration time is 16')\n",
    "vocabulary = words('train.txt')\n",
    "train_x, train_y = feature_vectors('train.txt', vocabulary)\n",
    "w, k, iters = perceptron_train(train_x, train_y,max_iter = 16)\n",
    "print('Errors made:', k)\n",
    "val_x, val_y = feature_vectors('validation.txt', vocabulary)\n",
    "print('Validation error: %.6f' % perceptron_error(w, val_x, val_y))"
   ]
  },
  {
   "cell_type": "code",
   "execution_count": 18,
   "id": "b006d0dc",
   "metadata": {},
   "outputs": [
    {
     "name": "stdout",
     "output_type": "stream",
     "text": [
      "max iteration time is 9, X = 30\n",
      "Errors made: 445\n",
      "Validation error: 0.014000\n"
     ]
    }
   ],
   "source": [
    "print('max iteration time is 9, X = 30')\n",
    "vocabulary = words('train.txt',X = 30)\n",
    "train_x, train_y = feature_vectors('train.txt', vocabulary)\n",
    "w, k, iters = perceptron_train(train_x, train_y,max_iter = 9)\n",
    "print('Errors made:', k)\n",
    "val_x, val_y = feature_vectors('validation.txt', vocabulary)\n",
    "print('Validation error: %.6f' % perceptron_error(w, val_x, val_y))"
   ]
  },
  {
   "cell_type": "code",
   "execution_count": 19,
   "id": "57179776",
   "metadata": {},
   "outputs": [
    {
     "name": "stdout",
     "output_type": "stream",
     "text": [
      "max iteration time is 9, X = 40\n",
      "Errors made: 491\n",
      "Validation error: 0.016000\n"
     ]
    }
   ],
   "source": [
    "print('max iteration time is 9, X = 40')\n",
    "vocabulary = words('train.txt',X = 40)\n",
    "train_x, train_y = feature_vectors('train.txt', vocabulary)\n",
    "w, k, iters = perceptron_train(train_x, train_y,max_iter = 9)\n",
    "print('Errors made:', k)\n",
    "val_x, val_y = feature_vectors('validation.txt', vocabulary)\n",
    "print('Validation error: %.6f' % perceptron_error(w, val_x, val_y))"
   ]
  },
  {
   "cell_type": "markdown",
   "id": "OaXNSTZqwu47",
   "metadata": {
    "id": "OaXNSTZqwu47"
   },
   "source": [
    "### Part 7\n",
    "train on the full training set, and see if it works on completely new data."
   ]
  },
  {
   "cell_type": "code",
   "execution_count": 20,
   "id": "P1YGjPtewu47",
   "metadata": {
    "id": "P1YGjPtewu47",
    "scrolled": true
   },
   "outputs": [
    {
     "name": "stdout",
     "output_type": "stream",
     "text": [
      "Errors made: 493\n",
      "Test error: 0.023000\n"
     ]
    }
   ],
   "source": [
    "vocabulary = words('spam_train.txt', X = 20)\n",
    "train_x, train_y = feature_vectors('spam_train.txt', vocabulary)\n",
    "w, k, iters = perceptron_train(train_x, train_y, max_iter = 9)\n",
    "print('Errors made:', k)\n",
    "test_x, test_y = feature_vectors('spam_test.txt', vocabulary)\n",
    "print('Test error: %.6f' % perceptron_error(w, test_x, test_y))"
   ]
  }
 ],
 "metadata": {
  "colab": {
   "collapsed_sections": [],
   "provenance": [],
   "toc_visible": true
  },
  "kernelspec": {
   "display_name": "Python 3 (ipykernel)",
   "language": "python",
   "name": "python3"
  },
  "language_info": {
   "codemirror_mode": {
    "name": "ipython",
    "version": 3
   },
   "file_extension": ".py",
   "mimetype": "text/x-python",
   "name": "python",
   "nbconvert_exporter": "python",
   "pygments_lexer": "ipython3",
   "version": "3.9.12"
  }
 },
 "nbformat": 4,
 "nbformat_minor": 5
}
